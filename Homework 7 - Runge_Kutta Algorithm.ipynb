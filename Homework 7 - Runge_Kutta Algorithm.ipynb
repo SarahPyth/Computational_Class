{
 "cells": [
  {
   "cell_type": "code",
   "execution_count": 1,
   "id": "360dc426",
   "metadata": {},
   "outputs": [],
   "source": [
    "import numpy as np\n",
    "import matplotlib.pyplot as plt"
   ]
  },
  {
   "cell_type": "markdown",
   "id": "3aa8e742",
   "metadata": {},
   "source": [
    "# Part A:"
   ]
  },
  {
   "cell_type": "code",
   "execution_count": 36,
   "id": "92f37308",
   "metadata": {},
   "outputs": [],
   "source": [
    "#Runge-Kutta Algorithm for finding y-values from a first order ODE\n",
    "#Inputs:\n",
    "#    y0 = initial y-value (dependent variable)\n",
    "#    t0 = initial t-value (independent variable)\n",
    "#    tf = final t-value (independent variable)\n",
    "#    dt = step size of t\n",
    "#    derivative = function to be integrated (first order ODE)\n",
    "#Outputs:\n",
    "#    t = array of t-values\n",
    "#    y = array of y-values\n",
    "\n",
    "def runge_kutta_1d(y0, t0, tf, dt, derivative):\n",
    "    #define array of t-values spanning from inital to final using the step size\n",
    "    t = np.arange(t0, tf+dt, dt)\n",
    "    n_steps = len(t) #number of points between inital and final t-values\n",
    "    \n",
    "    #define zer0-array of y-values corresponding to the above t-values\n",
    "    y = np.zeros(n_steps)\n",
    "    y[0] = y0 #set inital y-value to y0\n",
    "    \n",
    "    #iterate through all points in t-array\n",
    "    for n in range(n_steps-1):\n",
    "        f = derivative(y[n], t[n]) #find derivative at the current point\n",
    "        \n",
    "        #find \"intermediate values\"\n",
    "        y_star = y[n] + 0.5*dt*f\n",
    "        t_star = t[n] + 0.5*dt\n",
    "        f_star = derivative(y_star, t_star)\n",
    "        \n",
    "        #now calculate final \"full\" step\n",
    "        y[n+1] = y[n] + dt*f_star\n",
    "\n",
    "    #return the final t and y-value arrays\n",
    "    return t, y"
   ]
  },
  {
   "cell_type": "code",
   "execution_count": 37,
   "id": "ffe7d255",
   "metadata": {},
   "outputs": [],
   "source": [
    "#define function that's our first order ODE\n",
    "def CoffeeDeriv(T, t):\n",
    "    DerivTemp = -0.00764*(T-Tr)\n",
    "    return DerivTemp"
   ]
  },
  {
   "cell_type": "code",
   "execution_count": 38,
   "id": "fae9d5e5",
   "metadata": {},
   "outputs": [],
   "source": [
    "#define constants and initial conditions\n",
    "Tr = 22 #Room temperature in Celcius\n",
    "Ti = 90 #Initial coffee temperature in Celcius"
   ]
  },
  {
   "cell_type": "code",
   "execution_count": 39,
   "id": "6b9ecbfd",
   "metadata": {},
   "outputs": [
    {
     "name": "stdout",
     "output_type": "stream",
     "text": [
      "5 second intervals at 30 minutes: 76.07152572951745 degrees Celcius\n",
      "30 second intervals at 30 minutes: 76.07155511943277 degrees Celcius\n",
      "1 minute intervals at 30 minutes: 76.07164614923718 degrees Celcius\n",
      "5 minute intervals at 30 minutes: 76.07462676106911 degrees Celcius\n"
     ]
    }
   ],
   "source": [
    "#5 second intervals\n",
    "t1, T1 = runge_kutta_1d(Ti, 0, 45, (5/60), CoffeeDeriv)\n",
    "index1 = int(30*(60/5))\n",
    "print(\"5 second intervals at 30 minutes: \" + str(T1[index1]) + \" degrees Celcius\")\n",
    "\n",
    "#30 second intervals\n",
    "t2, T2 = runge_kutta_1d(Ti, 0, 45, (30/60), CoffeeDeriv)\n",
    "index2 = int(30*(60/30))\n",
    "print(\"30 second intervals at 30 minutes: \" + str(T2[index2]) + \" degrees Celcius\")\n",
    "\n",
    "#1 min intervals\n",
    "t3, T3 = runge_kutta_1d(Ti, 0, 45, 1, CoffeeDeriv)\n",
    "index3 = int(30)\n",
    "print(\"1 minute intervals at 30 minutes: \" + str(T3[index3]) + \" degrees Celcius\")\n",
    "\n",
    "#5 min intervals\n",
    "t4, T4 = runge_kutta_1d(Ti, 0, 45, 5, CoffeeDeriv)\n",
    "index4 = int(30/5)\n",
    "print(\"5 minute intervals at 30 minutes: \" + str(T4[index4]) + \" degrees Celcius\")"
   ]
  },
  {
   "cell_type": "code",
   "execution_count": 40,
   "id": "b70f3bad",
   "metadata": {},
   "outputs": [
    {
     "name": "stdout",
     "output_type": "stream",
     "text": [
      "Previous results using Euler's Method:\n",
      "5 second intervals at 30 minutes: 76.06757819400462 degrees Celcius\n",
      "30 second intervals at 30 minutes: 76.04779864387505 degrees Celcius\n",
      "1 minute intervals at 30 minutes: 76.02396130566802 degrees Celcius\n",
      "5 minute intervals at 30 minutes: 75.82915335613369 degrees Celcius\n"
     ]
    }
   ],
   "source": [
    "print(\"Previous results using Euler's Method:\")\n",
    "print(\"5 second intervals at 30 minutes: 76.06757819400462 degrees Celcius\")\n",
    "print(\"30 second intervals at 30 minutes: 76.04779864387505 degrees Celcius\")\n",
    "print(\"1 minute intervals at 30 minutes: 76.02396130566802 degrees Celcius\")\n",
    "print(\"5 minute intervals at 30 minutes: 75.82915335613369 degrees Celcius\")"
   ]
  },
  {
   "cell_type": "markdown",
   "id": "e4183f6e",
   "metadata": {},
   "source": [
    "The values coming out of the Runge-Kutta Algorithm and Euler's Method are very similar, but the runge-kutta values are all a lot more similar to each other (less variation) than the Euler's Method values. Additionally, all 4 time intervals with the Runge-Kutta Algorithm give a value close to the value of the smallest (5 second) time interval using Euler's Method."
   ]
  },
  {
   "cell_type": "markdown",
   "id": "a75805cb",
   "metadata": {},
   "source": [
    "# Part B:"
   ]
  },
  {
   "cell_type": "code",
   "execution_count": 41,
   "id": "ca25fecf",
   "metadata": {},
   "outputs": [],
   "source": [
    "Tr_iced = 21.999 #room temperature in degrees Celcius\n",
    "Ti_iced = 1.000 #initial temperature of iced coffed in degrees Celcius\n",
    "\n",
    "#derivative function for the Iced Coffee first order ODE\n",
    "def IcedCoffeeDeriv(T,t):\n",
    "    DerivTemp = -0.07640*(T - Tr_iced) #in minutes\n",
    "    return DerivTemp"
   ]
  },
  {
   "cell_type": "code",
   "execution_count": 42,
   "id": "dbae2771",
   "metadata": {
    "scrolled": true
   },
   "outputs": [
    {
     "name": "stdout",
     "output_type": "stream",
     "text": [
      "5 second intervals at 30 minutes: 19.876721287484497 degrees Celcius\n",
      "30 second intervals at 30 minutes: 19.87553654361981 degrees Celcius\n",
      "1 minute intervals at 30 minutes: 19.87173696177045 degrees Celcius\n",
      "5 minute intervals at 30 minutes: 19.71380326159644 degrees Celcius\n"
     ]
    }
   ],
   "source": [
    "#5 second intervals\n",
    "#shares time-array with hot-coffee example above\n",
    "#differnt temp-array from hot-coffee example\n",
    "t1, T1i = runge_kutta_1d(Ti_iced, 0, 45, (5/60), IcedCoffeeDeriv)\n",
    "index1 = int(30*(60/5))\n",
    "print(\"5 second intervals at 30 minutes: \" + str(T1i[index1]) + \" degrees Celcius\")\n",
    "\n",
    "#30 second intervals\n",
    "t2, T2i = runge_kutta_1d(Ti_iced, 0, 45, (30/60), IcedCoffeeDeriv)\n",
    "index2 = int(30*(60/30))\n",
    "print(\"30 second intervals at 30 minutes: \" + str(T2i[index2]) + \" degrees Celcius\")\n",
    "\n",
    "#1 min intervals\n",
    "t3, T3i = runge_kutta_1d(Ti_iced, 0, 45, 1, IcedCoffeeDeriv)\n",
    "index3 = int(30)\n",
    "print(\"1 minute intervals at 30 minutes: \" + str(T3i[index3]) + \" degrees Celcius\")\n",
    "\n",
    "#5 min intervals\n",
    "t4, T4i = runge_kutta_1d(Ti_iced, 0, 45, 5, IcedCoffeeDeriv)\n",
    "index4 = int(30/5)\n",
    "print(\"5 minute intervals at 30 minutes: \" + str(T4i[index4]) + \" degrees Celcius\")"
   ]
  },
  {
   "cell_type": "markdown",
   "id": "724f4889",
   "metadata": {},
   "source": [
    "The analytical solution to the first order ODE:\n",
    "y = 21.999 - 20.999/e^0.0764t\n"
   ]
  },
  {
   "cell_type": "code",
   "execution_count": 43,
   "id": "81db3657",
   "metadata": {},
   "outputs": [],
   "source": [
    "#define function to calculate analytical solution\n",
    "def analytical_solution(t):\n",
    "    y = 21.999 - 20.999/(np.e**(0.0764*t))\n",
    "    return y\n",
    "\n",
    "#find the analytical solution at t=30 minutes\n",
    "y_actual = analytical_solution(30)"
   ]
  },
  {
   "cell_type": "code",
   "execution_count": 49,
   "id": "c8dff12f",
   "metadata": {},
   "outputs": [
    {
     "name": "stdout",
     "output_type": "stream",
     "text": [
      "The analytical solution is: 19.876754306240283\n",
      "At 4 significant figures (from the 1.000 degrees C inital temperature), all the found solutions are:\n",
      "\n",
      "Analytic Solution: 19.88\n",
      "5 second intervals: 19.88\n",
      "30 second intervals: 19.88\n",
      "1 minute intervals: 19.87\n",
      "5 minute intervals: 19.71\n"
     ]
    }
   ],
   "source": [
    "print(\"The analytical solution is:\", y_actual)\n",
    "print(\"At 4 significant figures (from the 1.000 degrees C inital temperature), all the found solutions are:\")\n",
    "print()\n",
    "print(\"Analytic Solution:\", round(y_actual,2))\n",
    "print(\"5 second intervals:\", round(T1i[index1],2))\n",
    "print(\"30 second intervals:\", round(T2i[index2],2))\n",
    "print(\"1 minute intervals:\", round(T3i[index3],2))\n",
    "print(\"5 minute intervals:\", round(T4i[index4],2))\n"
   ]
  },
  {
   "cell_type": "markdown",
   "id": "b409fcc4",
   "metadata": {},
   "source": [
    "As the time intervals get shorter, the temperature of the iced-coffee at 30 minutes gets closer and closer to the analytic solution (meaning the \"guesses\" get more precise as the time intervals get smaller). Assuming the analytic solution IS the real value, then the accuracy of our solutions also get better as the intervals get smaller.\n",
    "\n",
    "With our current time intervals, the 5 second intervals and 30 second intervals are the most precise (equalling the analytic solution to 4 sig figs), while the 5 minute interval is the least precise. To get better precision, I would decrease the time interval even more."
   ]
  },
  {
   "cell_type": "markdown",
   "id": "9ad959c0",
   "metadata": {},
   "source": [
    "# Part C:"
   ]
  },
  {
   "cell_type": "code",
   "execution_count": 74,
   "id": "11da7e8c",
   "metadata": {},
   "outputs": [
    {
     "data": {
      "text/plain": [
       "<Figure size 640x480 with 0 Axes>"
      ]
     },
     "metadata": {},
     "output_type": "display_data"
    },
    {
     "data": {
      "image/png": "[encoded data removed]",
      "text/plain": [
       "<Figure size 640x480 with 2 Axes>"
      ]
     },
     "metadata": {},
     "output_type": "display_data"
    }
   ],
   "source": [
    "plt.figure()\n",
    "fig, (ax1, ax2) = plt.subplots(2,1, sharex=True) #1 row, 2 columns, share x axis\n",
    "\n",
    "ax1.plot(t1,T1)\n",
    "ax1.scatter(30,T1[index1], color=\"r\", label=str(round(T1[index1],2))+\" degrees Celcius\")\n",
    "ax1.set_title(\"Temperature of Hot Coffee Sitting Out\")\n",
    "ax1.legend()\n",
    "\n",
    "ax2.plot(t1,T1i)\n",
    "ax2.scatter(30,T1i[index1], color=\"r\", label=str(round(T1i[index1],2))+\" degrees Celcius\")\n",
    "ax2.set_xlabel(\"Time Coffee Has Been Left (minutes)\")\n",
    "ax2.set_title(\"Temperature of Iced Coffee Sitting Out\")\n",
    "ax2.legend()\n",
    "\n",
    "fig.text(0.05,0.2,\"Temperature of Coffee (degrees Celcius)\", rotation=90)\n",
    "plt.show()"
   ]
  },
  {
   "cell_type": "code",
   "execution_count": null,
   "id": "b3016cc4",
   "metadata": {},
   "outputs": [],
   "source": []
  }
 ],
 "metadata": {
  "kernelspec": {
   "display_name": "Python 3 (ipykernel)",
   "language": "python",
   "name": "python3"
  },
  "language_info": {
   "codemirror_mode": {
    "name": "ipython",
    "version": 3
   },
   "file_extension": ".py",
   "mimetype": "text/x-python",
   "name": "python",
   "nbconvert_exporter": "python",
   "pygments_lexer": "ipython3",
   "version": "3.9.13"
  }
 },
 "nbformat": 4,
 "nbformat_minor": 5
}
